{
 "cells": [
  {
   "cell_type": "markdown",
   "id": "56783c8f",
   "metadata": {},
   "source": [
    "1. To what does a relative path refer?"
   ]
  },
  {
   "cell_type": "markdown",
   "id": "1d478ece",
   "metadata": {},
   "source": [
    "A) Relative path describes the location of the file or folder relative to the current working directory i.e. it is the path of the file or folder we wish to access from the current working directory."
   ]
  },
  {
   "cell_type": "code",
   "execution_count": 3,
   "id": "577f7528",
   "metadata": {},
   "outputs": [
    {
     "name": "stdout",
     "output_type": "stream",
     "text": [
      "ANKITA\\Assignment_9_Solutions\n"
     ]
    }
   ],
   "source": [
    "print(os.path.relpath(\"Assignment_9_Solutions\",'c:\\\\Users'))"
   ]
  },
  {
   "cell_type": "code",
   "execution_count": 4,
   "id": "bc05f871",
   "metadata": {},
   "outputs": [
    {
     "name": "stdout",
     "output_type": "stream",
     "text": [
      "Assignment_9_Solutions\n"
     ]
    }
   ],
   "source": [
    "print(os.path.relpath(\"Assignment_9_Solutions\"))"
   ]
  },
  {
   "cell_type": "markdown",
   "id": "8158a23e",
   "metadata": {},
   "source": [
    "2. What does an absolute path start with your operating system?"
   ]
  },
  {
   "cell_type": "markdown",
   "id": "7ae5d37a",
   "metadata": {},
   "source": [
    "A) Absolute path is the complete path from the root directory to that particular file. We can get the absolute path of the current file as below:"
   ]
  },
  {
   "cell_type": "code",
   "execution_count": 1,
   "id": "eea54101",
   "metadata": {},
   "outputs": [
    {
     "name": "stdout",
     "output_type": "stream",
     "text": [
      "C:\\Users\\ANKITA\\Assignment_9_Solutions\n"
     ]
    }
   ],
   "source": [
    "import os\n",
    "print(os.path.abspath(\"Assignment_9_Solutions\"))"
   ]
  },
  {
   "cell_type": "markdown",
   "id": "4ef28cf3",
   "metadata": {},
   "source": [
    "3. What do the functions os.getcwd() and os.chdir() do?"
   ]
  },
  {
   "cell_type": "markdown",
   "id": "2445843a",
   "metadata": {},
   "source": [
    "A) os.getcwd() gives us the current working directory i.e. the directory from which the program is being executed. os.chdir() method is used to change the current working directory at runtime.\n"
   ]
  },
  {
   "cell_type": "markdown",
   "id": "4be9dde1",
   "metadata": {},
   "source": [
    "4. What are the . and .. folders?"
   ]
  },
  {
   "cell_type": "markdown",
   "id": "cc7abee6",
   "metadata": {},
   "source": [
    "A) (.) and (..) are not real folders but they are special names that can be used in a path. A single dot (.) means \"this directory\" and (..) means \"the parent directory\""
   ]
  },
  {
   "cell_type": "markdown",
   "id": "7850376f",
   "metadata": {},
   "source": [
    "5. In C:\\bacon\\eggs\\spam.txt, which part is the dir name, and which part is the base name?"
   ]
  },
  {
   "cell_type": "markdown",
   "id": "a827e86d",
   "metadata": {},
   "source": [
    "A)\n",
    "Directory name  is C:\\bacon\\eggs \n",
    "Base name is spam.txt"
   ]
  },
  {
   "cell_type": "markdown",
   "id": "2318a99d",
   "metadata": {},
   "source": [
    "6. What are the three “mode” arguments that can be passed to the open() function?"
   ]
  },
  {
   "cell_type": "markdown",
   "id": "fcdac246",
   "metadata": {},
   "source": [
    "A)\n",
    "\"r\" - This is the default mode. It is used to open the file in the read mode. If no such file exists, then the open() function returns an error.\n",
    "\n",
    "\"w\" - This string opens the file in write mode. If the file doesn't exist, it creates one.\n",
    "\n",
    "\"a\" - This string opens the file in append mode. It adds content to the existing file. If no such file exists, it creates one. "
   ]
  },
  {
   "cell_type": "markdown",
   "id": "26759d04",
   "metadata": {},
   "source": [
    "7. What happens if an existing file is opened in write mode?"
   ]
  },
  {
   "cell_type": "markdown",
   "id": "601fea54",
   "metadata": {},
   "source": [
    "A) Whenever we open a file in \"w\" mode, the pointer is placed at the beginning of the file and it will overwrite the contents of the existing file with the same name. If the file doesn't exist, it creates a new one."
   ]
  },
  {
   "cell_type": "markdown",
   "id": "90f3012a",
   "metadata": {},
   "source": [
    "8. How do you tell the difference between read() and readlines()?"
   ]
  },
  {
   "cell_type": "markdown",
   "id": "3f3849d9",
   "metadata": {},
   "source": [
    "read() method reads the entire contents of the file. If argument n is given to the read(n) function, it reads n number of characters from the file.\n",
    "\n",
    "readlines() function reads all the lines of the file and returns a list"
   ]
  },
  {
   "cell_type": "code",
   "execution_count": 5,
   "id": "2d2dff3c",
   "metadata": {},
   "outputs": [
    {
     "name": "stdout",
     "output_type": "stream",
     "text": [
      "Data s\n"
     ]
    }
   ],
   "source": [
    "f = open(\"abc.txt\")\n",
    "content = f.read(6)\n",
    "print(content)"
   ]
  },
  {
   "cell_type": "code",
   "execution_count": 6,
   "id": "21946a46",
   "metadata": {},
   "outputs": [
    {
     "name": "stdout",
     "output_type": "stream",
     "text": [
      "['cience is an interdisciplinary field that uses scientific methods, processes, algorithms and systems to extract knowledge and insights from noisy, structured and unstructured data,[1][2] and apply knowledge from data across a broad range of application domains. Data science is related to data mining, machine learning and \\n', 'big data.\\n', 'Data science is a \"concept to unify statistics, data analysis, informatics, and their related methods\" in order to \"understand and analyse actual phenomena\" with data.[3] It uses techniques and theories drawn from many fields within the context of mathematics, statistics, computer science, information science, and domain knowledge.[4] However, data science is different from computer science and information science. Turing Award winner Jim Gray imagined data science as a \"fourth paradigm\" of science (empirical, theoretical, computational, and now data-driven) and asserted that \"everything about science is changing because of the impact of information technology\" and the data deluge.[5][6]\\n', 'A data scientist is someone who creates programming code and combines it with statistical knowledge to create insights from data.[7]']\n"
     ]
    }
   ],
   "source": [
    "content2 = f.readlines()\n",
    "print(content2)"
   ]
  },
  {
   "cell_type": "markdown",
   "id": "be840d90",
   "metadata": {},
   "source": [
    "9. What data structure does a shelf value resemble?"
   ]
  },
  {
   "cell_type": "markdown",
   "id": "819f3444",
   "metadata": {},
   "source": [
    "It resembles a dictionary."
   ]
  }
 ],
 "metadata": {
  "kernelspec": {
   "display_name": "Python 3",
   "language": "python",
   "name": "python3"
  },
  "language_info": {
   "codemirror_mode": {
    "name": "ipython",
    "version": 3
   },
   "file_extension": ".py",
   "mimetype": "text/x-python",
   "name": "python",
   "nbconvert_exporter": "python",
   "pygments_lexer": "ipython3",
   "version": "3.8.8"
  }
 },
 "nbformat": 4,
 "nbformat_minor": 5
}
